{
 "cells": [
  {
   "cell_type": "code",
   "execution_count": 1,
   "metadata": {},
   "outputs": [],
   "source": [
    "import pandas as pd\n",
    "import numpy as np\n",
    "from sklearn.model_selection import train_test_split,KFold\n",
    "from datetime import datetime\n",
    "import matplotlib.pyplot as plt\n",
    "from sklearn.model_selection import GridSearchCV\n",
    "from sklearn.ensemble import RandomForestRegressor\n",
    "from sklearn.metrics import mean_squared_error\n",
    "import lightgbm as lgb\n",
    "from lightgbm import LGBMRegressor\n",
    "from sklearn.linear_model import ElasticNet"
   ]
  },
  {
   "cell_type": "code",
   "execution_count": 2,
   "metadata": {
    "collapsed": true
   },
   "outputs": [],
   "source": [
    "def plot_feature(alg,dtrain,top=25):\n",
    "    feat_imp = pd.Series(alg.feature_importances_,index=dtrain.columns).sort_values(ascending=False)[0:top]\n",
    "    feat_imp.plot(kind='bar', title='top {} Feature Importances'.format(top))\n",
    "    plt.ylabel('Feature Importance Score')\n",
    "    plt.show()"
   ]
  },
  {
   "cell_type": "code",
   "execution_count": 3,
   "metadata": {
    "collapsed": true
   },
   "outputs": [],
   "source": [
    "house=pd.read_csv(\"../data/data.csv\")"
   ]
  },
  {
   "cell_type": "code",
   "execution_count": 4,
   "metadata": {
    "collapsed": true
   },
   "outputs": [],
   "source": [
    "# preprocess"
   ]
  },
  {
   "cell_type": "code",
   "execution_count": 5,
   "metadata": {},
   "outputs": [],
   "source": [
    "# date\n",
    "house['date']        =list(map(lambda strdate: datetime.strptime(strdate,'%Y%m%dT%H%M%S'), house['date']))\n",
    "house['sale_year']   =list(map(lambda date: date.year, house['date']))\n",
    "house['sale_month']  =list(map(lambda date: date.month,house['date']))\n",
    "house['sale_weekday']=list(map(lambda date: date.dayofweek,house['date'] ))\n",
    "# location \n",
    "house['zipcode']=house['zipcode'].astype('category')\n",
    "del house['id'] \n",
    "house['log_price']=np.log(house['price']) # log_normal distribution plot"
   ]
  },
  {
   "cell_type": "code",
   "execution_count": 6,
   "metadata": {
    "collapsed": true
   },
   "outputs": [],
   "source": [
    "# Train Test Split "
   ]
  },
  {
   "cell_type": "code",
   "execution_count": 7,
   "metadata": {
    "collapsed": true
   },
   "outputs": [],
   "source": [
    "X_data = house.drop(columns=['price','log_price','date'])\n",
    "y_data = house['log_price']\n",
    "X_train, X_test, y_train, y_test=train_test_split(X_data,y_data,test_size=0.33, random_state=42)"
   ]
  },
  {
   "cell_type": "markdown",
   "metadata": {},
   "source": [
    "# BaseLine Model \n",
    "### 1. untuned tree-based model (random forest)"
   ]
  },
  {
   "cell_type": "code",
   "execution_count": 8,
   "metadata": {},
   "outputs": [
    {
     "data": {
      "text/plain": [
       "0.03522559117307039"
      ]
     },
     "execution_count": 8,
     "metadata": {},
     "output_type": "execute_result"
    }
   ],
   "source": [
    "rf_model=RandomForestRegressor()\n",
    "rf_model.fit(X_train,y_train)\n",
    "y_pred=rf_model.predict(X_test)\n",
    "mean_squared_error(y_test,y_pred) # untuned random forest results"
   ]
  },
  {
   "cell_type": "markdown",
   "metadata": {},
   "source": [
    "### 2. tunned linear model - Elastic Net"
   ]
  },
  {
   "cell_type": "markdown",
   "metadata": {},
   "source": [
    "** objective function**  :  $ \\frac{1}{2n} ||y - \\beta X||^2_2 + \\alpha* ratio * ||\\beta||_1  + 0.5 * \\alpha * (1 - ratio) * ||\\beta||^2_2  $"
   ]
  },
  {
   "cell_type": "markdown",
   "metadata": {},
   "source": [
    "$$ x * L1 + y * L2 $$ \n",
    "$$\\alpha = x + y \\space and \\space ratio = \\frac{x}{  (x + y)} $$"
   ]
  },
  {
   "cell_type": "markdown",
   "metadata": {},
   "source": [
    "**alpha** control the total penalty for l2 and l1  \n",
    "**ratio** control the weight between l1 and l2"
   ]
  },
  {
   "cell_type": "code",
   "execution_count": 9,
   "metadata": {},
   "outputs": [],
   "source": [
    "elastic_model = ElasticNet()"
   ]
  },
  {
   "cell_type": "code",
   "execution_count": 10,
   "metadata": {
    "scrolled": true
   },
   "outputs": [
    {
     "name": "stderr",
     "output_type": "stream",
     "text": [
      "C:\\Wesley_Tao\\6.Software\\Anaconda\\lib\\site-packages\\sklearn\\linear_model\\coordinate_descent.py:491: ConvergenceWarning: Objective did not converge. You might want to increase the number of iterations. Fitting data with very small alpha may cause precision problems.\n",
      "  ConvergenceWarning)\n"
     ]
    },
    {
     "data": {
      "text/plain": [
       "({'alpha': 0.01, 'fit_intercept': True, 'l1_ratio': 0.0, 'normalize': False},\n",
       " -0.06781044351344419)"
      ]
     },
     "execution_count": 10,
     "metadata": {},
     "output_type": "execute_result"
    }
   ],
   "source": [
    "param_test1 = {\n",
    "     \"alpha\":[0.01,0.1,0.2],\n",
    "    'l1_ratio':[0.0,0.5,1],\n",
    "    'fit_intercept': [True,False],\n",
    "    'normalize':[True,False]\n",
    "}\n",
    "gsearch1 = GridSearchCV(estimator = elastic_model, \n",
    "param_grid = param_test1, scoring='neg_mean_squared_error',n_jobs=4,iid=False, cv=5,verbose=0)\n",
    "gsearch1.fit(X_train,y_train)\n",
    "gsearch1.best_params_, gsearch1.best_score_"
   ]
  },
  {
   "cell_type": "code",
   "execution_count": 11,
   "metadata": {},
   "outputs": [
    {
     "data": {
      "text/plain": [
       "ElasticNet(alpha=0.01, copy_X=True, fit_intercept=True, l1_ratio=0.0,\n",
       "      max_iter=1000, normalize=False, positive=False, precompute=False,\n",
       "      random_state=None, selection='cyclic', tol=0.0001, warm_start=False)"
      ]
     },
     "execution_count": 11,
     "metadata": {},
     "output_type": "execute_result"
    }
   ],
   "source": [
    "elastic_model.set_params(**gsearch1.best_params_)"
   ]
  },
  {
   "cell_type": "code",
   "execution_count": 12,
   "metadata": {},
   "outputs": [
    {
     "name": "stderr",
     "output_type": "stream",
     "text": [
      "C:\\Wesley_Tao\\6.Software\\Anaconda\\lib\\site-packages\\sklearn\\linear_model\\coordinate_descent.py:491: ConvergenceWarning: Objective did not converge. You might want to increase the number of iterations. Fitting data with very small alpha may cause precision problems.\n",
      "  ConvergenceWarning)\n"
     ]
    },
    {
     "data": {
      "text/plain": [
       "0.06947561889100491"
      ]
     },
     "execution_count": 12,
     "metadata": {},
     "output_type": "execute_result"
    }
   ],
   "source": [
    "elastic_model.fit(X_train,y_train)\n",
    "y_pred=elastic_model.predict(X_test)\n",
    "mean_squared_error(y_test,y_pred)"
   ]
  },
  {
   "cell_type": "markdown",
   "metadata": {},
   "source": [
    "# light GBM"
   ]
  },
  {
   "cell_type": "markdown",
   "metadata": {},
   "source": [
    "** objective function**  is L2 loss"
   ]
  },
  {
   "cell_type": "markdown",
   "metadata": {},
   "source": [
    "**Input**: I: training data, d: iterations  \n",
    "**Input**: a: sampling ratio of large gradient data  \n",
    "**Input**: b: sampling ratio of small gradient data  \n",
    "**Input**: loss: loss function, L: weak learner  \n",
    "models ← {}, fact ← (1−a)/b  \n",
    "topN ← a × len(I) , randN ← b × len(I)  \n",
    "**for i = 1 to d do **  \n",
    "&ensp; preds ← models.predict(I)  \n",
    "&ensp; g ← loss(I, preds), w ← {1,1,...}  \n",
    "&ensp;  sorted ← GetSortedIndices(abs(g))  \n",
    "&ensp; topSet ← sorted[1:topN]  \n",
    "&ensp; randSet ← RandomPick(sorted[topN:len(I)],randN)  \n",
    "&ensp; usedSet ← topSet + randSet  \n",
    "&ensp; w[randSet] × = fact . Assign weight f act to the small gradient data.  \n",
    "&ensp; newModel ← L(I[usedSet], − g[usedSet],w[usedSet])  \n",
    "&ensp; models.append(newModel)"
   ]
  },
  {
   "cell_type": "markdown",
   "metadata": {},
   "source": [
    "LightGBM offers good accuracy with integer-encoded categorical features.   \n",
    "LightGBM applies Fisher (1958) to find the optimal split over categories as described here. This often performs better than **one-hot encoding**.  \n",
    "\n",
    "**Categorical features** must be encoded as non-negative integers (int) less than Int32.MaxValue (2147483647). It is best to use a **contiguous range of integers**.  \n",
    "Use categorical_feature to specify the categorical features. Refer to the parameter categorical_feature in Parameters. \n",
    "\n",
    "Use **min_data_per_group, cat_smooth** to deal with over-fitting (when #data is small or #category is large).  \n",
    "\n",
    "For a categorical feature with high cardinality (#category is large), it often works best to treat the feature as numeric, either by simply ignoring the categorical interpretation of the integers or by embedding the categories in a low-dimensional numeric space.  "
   ]
  },
  {
   "cell_type": "code",
   "execution_count": 13,
   "metadata": {},
   "outputs": [
    {
     "data": {
      "text/plain": [
       "LGBMRegressor(bagging_fraction=0.8, bagging_freq=1, boosting_type='gbdt',\n",
       "       class_weight=None, colsample_bytree=1.0, learning_rate=0.1,\n",
       "       max_bin=100, max_depth=-1, metric='rmse', min_child_samples=20,\n",
       "       min_child_weight=0.001, min_data_in_leaf=80, min_split_gain=0.0,\n",
       "       n_estimators=3000, n_jobs=-1, num_leaves=50, objective=None,\n",
       "       random_state=None, reg_alpha=0.0, reg_lambda=0.0, save_binary=True,\n",
       "       silent=True, subsample=1.0, subsample_for_bin=200000,\n",
       "       subsample_freq=0)"
      ]
     },
     "execution_count": 13,
     "metadata": {},
     "output_type": "execute_result"
    }
   ],
   "source": [
    "lgb_model=LGBMRegressor()\n",
    "lgbm_params = {\n",
    "    \"n_estimators\":3000,\n",
    "    \"boosting_type\":\"gbdt\",\n",
    "#     \"application\":\"conitunous\",\n",
    "    \"learning_rate\":0.1, \n",
    "    \"min_data_in_leaf\":80, # dealt with overfiting\n",
    "    \"num_leaves\":50,\n",
    "#     \"min_data_per_group\":[10,30,50],\n",
    "#     \"cat_smooth\":[0,0.5,1],\n",
    "    \"max_depth\":-1,\n",
    "#     \"scale_pos_weight\":2,\n",
    "#     \"drop_rate\":0.02,\n",
    "    \"bagging_freq\":1,\n",
    "    \"bagging_fraction\":0.8,\n",
    "    \"metric\":\"rmse\",\n",
    "    \"min_split_gain\":0.0,\n",
    "#     \"colsample_bytree\":0.0\n",
    "    \"save_binary\":True,\n",
    "    \"max_bin\":100\n",
    "}\n",
    "lgb_model.set_params(**lgbm_params) #base model"
   ]
  },
  {
   "cell_type": "code",
   "execution_count": 14,
   "metadata": {},
   "outputs": [],
   "source": [
    "lgbm_train = lgb.Dataset(data=X_train,\n",
    "                          label=y_train,\n",
    "#                           categorical_feature=cat_col,\n",
    "                          free_raw_data=False)"
   ]
  },
  {
   "cell_type": "code",
   "execution_count": 15,
   "metadata": {},
   "outputs": [
    {
     "name": "stderr",
     "output_type": "stream",
     "text": [
      "C:\\Wesley_Tao\\6.Software\\Anaconda\\lib\\site-packages\\lightgbm\\engine.py:394: UserWarning: Found `n_estimators` in params. Will use it instead of argument\n",
      "  warnings.warn(\"Found `{}` in params. Will use it instead of argument\".format(alias))\n"
     ]
    },
    {
     "name": "stdout",
     "output_type": "stream",
     "text": [
      "[50]\tcv_agg's l2: 0.0315795 + 0.0017749\n",
      "[100]\tcv_agg's l2: 0.0304633 + 0.00177822\n",
      "[150]\tcv_agg's l2: 0.0304682 + 0.00178045\n",
      "[200]\tcv_agg's l2: 0.030597 + 0.00178114\n",
      "[250]\tcv_agg's l2: 0.0307724 + 0.00169357\n",
      "[300]\tcv_agg's l2: 0.0309726 + 0.00173147\n"
     ]
    }
   ],
   "source": [
    "cv_results = lgb.cv(train_set=lgbm_train,\n",
    "                     params=lgbm_params,\n",
    "                     nfold=5,\n",
    "                     num_boost_round=1000,\n",
    "                     early_stopping_rounds=200,\n",
    "                     stratified=False,\n",
    "#                      objective=\"regression\",\n",
    "                     verbose_eval=50,\n",
    "                     metrics=['mse'])"
   ]
  },
  {
   "cell_type": "code",
   "execution_count": 16,
   "metadata": {},
   "outputs": [
    {
     "name": "stdout",
     "output_type": "stream",
     "text": [
      "Optimum boost rounds = 122\n",
      "Best LGBM CV result = 0.03038865614705775\n"
     ]
    }
   ],
   "source": [
    "optimum_boost_rounds = np.argmin(cv_results['l2-mean'])\n",
    "print('Optimum boost rounds = {}'.format(optimum_boost_rounds))\n",
    "print('Best LGBM CV result = {}'.format(np.min(cv_results['l2-mean']))) #cv_agg's mape: 0.0418631 + 0.000355628"
   ]
  },
  {
   "cell_type": "markdown",
   "metadata": {},
   "source": [
    "# parameter tuning\n",
    "**max num_leaves**  This is the main parameter to control the complexity of the tree model.   \n",
    "Theoretically, we can set num_leaves = 2^(max_depth) to obtain the same number of leaves as depth-wise tree. \n",
    "\n",
    "**min_data_in_leaf** This is a very important parameter to prevent over-fitting in a leaf-wise tree.   \n",
    "Its optimal value depends on the number of training samples and num_leaves.   \n",
    "Setting it to a large value can avoid growing too deep a tree, but may cause under-fitting.   \n",
    "In practice, setting it to hundreds or thousands is enough for a large dataset.\n",
    "\n",
    "**max_depth. ** You also can use max_depth to limit the tree depth explicitly."
   ]
  },
  {
   "cell_type": "code",
   "execution_count": 17,
   "metadata": {},
   "outputs": [
    {
     "data": {
      "text/plain": [
       "LGBMRegressor(bagging_fraction=0.8, bagging_freq=1, boosting_type='gbdt',\n",
       "       class_weight=None, colsample_bytree=1.0, learning_rate=0.1,\n",
       "       max_bin=100, max_depth=-1, metric='rmse', min_child_samples=20,\n",
       "       min_child_weight=0.001, min_data_in_leaf=80, min_split_gain=0.0,\n",
       "       n_estimators=122, n_jobs=-1, num_leaves=50, objective=None,\n",
       "       random_state=None, reg_alpha=0.0, reg_lambda=0.0, save_binary=True,\n",
       "       silent=True, subsample=1.0, subsample_for_bin=200000,\n",
       "       subsample_freq=0)"
      ]
     },
     "execution_count": 17,
     "metadata": {},
     "output_type": "execute_result"
    }
   ],
   "source": [
    "lgb_model.set_params(n_estimators=122)"
   ]
  },
  {
   "cell_type": "code",
   "execution_count": 18,
   "metadata": {},
   "outputs": [
    {
     "name": "stderr",
     "output_type": "stream",
     "text": [
      "[Parallel(n_jobs=4)]: Done  64 tasks      | elapsed:   31.3s\n",
      "[Parallel(n_jobs=4)]: Done 225 out of 225 | elapsed:  1.8min finished\n"
     ]
    },
    {
     "data": {
      "text/plain": [
       "({'cat_smooth': 0, 'min_data_in_leaf': 41, 'num_leaves': 50},\n",
       " -0.026281361987260575)"
      ]
     },
     "execution_count": 18,
     "metadata": {},
     "output_type": "execute_result"
    }
   ],
   "source": [
    "param_test1 = {\n",
    "     \"num_leaves\":[10,30,50],\n",
    "    \"cat_smooth\":[0,0.5,1],\n",
    "    'min_data_in_leaf':list(range(1,100,20)) \n",
    "}\n",
    "gsearch1 = GridSearchCV(estimator = lgb_model, \n",
    "param_grid = param_test1, scoring='neg_mean_squared_error',n_jobs=4,iid=False, cv=5,verbose=-1)\n",
    "gsearch1.fit(X_train,y_train)\n",
    "gsearch1.best_params_, gsearch1.best_score_"
   ]
  },
  {
   "cell_type": "code",
   "execution_count": 19,
   "metadata": {},
   "outputs": [
    {
     "data": {
      "text/plain": [
       "LGBMRegressor(bagging_fraction=0.8, bagging_freq=1, boosting_type='gbdt',\n",
       "       cat_smooth=0, class_weight=None, colsample_bytree=1.0,\n",
       "       learning_rate=0.1, max_bin=100, max_depth=-1, metric='rmse',\n",
       "       min_child_samples=20, min_child_weight=0.001, min_data_in_leaf=41,\n",
       "       min_split_gain=0.0, n_estimators=122, n_jobs=-1, num_leaves=50,\n",
       "       objective=None, random_state=None, reg_alpha=0.0, reg_lambda=0.0,\n",
       "       save_binary=True, silent=True, subsample=1.0,\n",
       "       subsample_for_bin=200000, subsample_freq=0)"
      ]
     },
     "execution_count": 19,
     "metadata": {},
     "output_type": "execute_result"
    }
   ],
   "source": [
    "lgb_model.set_params(**gsearch1.best_params_)"
   ]
  },
  {
   "cell_type": "code",
   "execution_count": 20,
   "metadata": {},
   "outputs": [
    {
     "data": {
      "text/plain": [
       "LGBMRegressor(bagging_fraction=0.8, bagging_freq=1, boosting_type='gbdt',\n",
       "       cat_smooth=0, class_weight=None, colsample_bytree=1.0,\n",
       "       learning_rate=0.1, max_bin=100, max_depth=-1, metric='rmse',\n",
       "       min_child_samples=20, min_child_weight=0.001, min_data_in_leaf=41,\n",
       "       min_split_gain=0.0, n_estimators=122, n_jobs=-1, num_leaves=50,\n",
       "       objective=None, random_state=None, reg_alpha=0.0, reg_lambda=0.0,\n",
       "       save_binary=True, silent=True, subsample=1.0,\n",
       "       subsample_for_bin=200000, subsample_freq=0)"
      ]
     },
     "execution_count": 20,
     "metadata": {},
     "output_type": "execute_result"
    }
   ],
   "source": [
    "lgb_model.fit(X_train,y_train)"
   ]
  },
  {
   "cell_type": "code",
   "execution_count": 21,
   "metadata": {},
   "outputs": [
    {
     "data": {
      "text/plain": [
       "0.026607985573588906"
      ]
     },
     "execution_count": 21,
     "metadata": {},
     "output_type": "execute_result"
    }
   ],
   "source": [
    "y_pred=lgb_model.predict(X_test)\n",
    "mean_squared_error(y_test,y_pred) # untuned random forest results"
   ]
  },
  {
   "cell_type": "code",
   "execution_count": 22,
   "metadata": {
    "collapsed": true
   },
   "outputs": [],
   "source": [
    "## feature importance "
   ]
  },
  {
   "cell_type": "code",
   "execution_count": 23,
   "metadata": {},
   "outputs": [
    {
     "data": {
      "image/png": "[encoded data removed]",
      "text/plain": [
       "<matplotlib.figure.Figure at 0x1e9fd0efe10>"
      ]
     },
     "metadata": {},
     "output_type": "display_data"
    }
   ],
   "source": [
    "plot_feature(lgb_model,dtrain=X_train)"
   ]
  },
  {
   "cell_type": "code",
   "execution_count": 24,
   "metadata": {
    "collapsed": true
   },
   "outputs": [],
   "source": [
    "# important features\n",
    "# 1. Location (zip code latitude and longituted)\n",
    "# 2. square foot\n",
    "# 3. grade & condition \n",
    "# 4. Seasonality (seasonl sale)\n",
    "# 5. floor plan (eg 2b3b 2 floor)\n",
    "# 6. renovation\n",
    "# 7. view\n",
    "# 8. waterfront"
   ]
  }
 ],
 "metadata": {
  "kernelspec": {
   "display_name": "Python 3",
   "language": "python",
   "name": "python3"
  },
  "language_info": {
   "codemirror_mode": {
    "name": "ipython",
    "version": 3
   },
   "file_extension": ".py",
   "mimetype": "text/x-python",
   "name": "python",
   "nbconvert_exporter": "python",
   "pygments_lexer": "ipython3",
   "version": "3.6.1"
  }
 },
 "nbformat": 4,
 "nbformat_minor": 2
}
