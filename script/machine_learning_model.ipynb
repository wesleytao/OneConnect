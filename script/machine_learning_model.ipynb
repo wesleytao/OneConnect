{
 "cells": [
  {
   "cell_type": "code",
   "execution_count": 1,
   "metadata": {},
   "outputs": [],
   "source": [
    "import pandas as pd\n",
    "import numpy as np\n",
    "from sklearn.model_selection import train_test_split,KFold\n",
    "from datetime import datetime\n",
    "import matplotlib.pyplot as plt\n",
    "from sklearn.model_selection import GridSearchCV\n",
    "from sklearn.ensemble import RandomForestRegressor\n",
    "from sklearn.metrics import mean_squared_error\n",
    "import lightgbm as lgb\n",
    "from lightgbm import LGBMRegressor\n",
    "from sklearn.linear_model import ElasticNet"
   ]
  },
  {
   "cell_type": "code",
   "execution_count": 2,
   "metadata": {
    "collapsed": true
   },
   "outputs": [],
   "source": [
    "def plot_feature(alg,dtrain,top=25):\n",
    "    feat_imp = pd.Series(alg.feature_importances_,index=dtrain.columns).sort_values(ascending=False)[0:top]\n",
    "    feat_imp.plot(kind='bar', title='top {} Feature Importances'.format(top))\n",
    "    plt.ylabel('Feature Importance Score')\n",
    "    plt.show()"
   ]
  },
  {
   "cell_type": "code",
   "execution_count": 3,
   "metadata": {
    "collapsed": true
   },
   "outputs": [],
   "source": [
    "house=pd.read_csv(\"../data/data.csv\")"
   ]
  },
  {
   "cell_type": "code",
   "execution_count": 4,
   "metadata": {
    "collapsed": true
   },
   "outputs": [],
   "source": [
    "# preprocess"
   ]
  },
  {
   "cell_type": "code",
   "execution_count": 5,
   "metadata": {},
   "outputs": [],
   "source": [
    "# date\n",
    "house['date']        =list(map(lambda strdate: datetime.strptime(strdate,'%Y%m%dT%H%M%S'), house['date']))\n",
    "house['sale_year']   =list(map(lambda date: date.year, house['date']))\n",
    "house['sale_month']  =list(map(lambda date: date.month,house['date']))\n",
    "house['sale_weekday']=list(map(lambda date: date.dayofweek,house['date'] ))\n",
    "# location \n",
    "house['zipcode']=house['zipcode'].astype('category')\n",
    "del house['id'] \n",
    "house['log_price']=np.log(house['price']) # log_normal distribution plot"
   ]
  },
  {
   "cell_type": "code",
   "execution_count": 6,
   "metadata": {
    "collapsed": true
   },
   "outputs": [],
   "source": [
    "# Train Test Split "
   ]
  },
  {
   "cell_type": "code",
   "execution_count": 7,
   "metadata": {
    "collapsed": true
   },
   "outputs": [],
   "source": [
    "X_data = house.drop(columns=['price','log_price','date'])\n",
    "y_data = house['log_price']\n",
    "X_train, X_test, y_train, y_test=train_test_split(X_data,y_data,test_size=0.33, random_state=42)"
   ]
  },
  {
   "cell_type": "markdown",
   "metadata": {},
   "source": [
    "# BaseLine Model \n",
    "### 1. untuned tree-based model (random forest)"
   ]
  },
  {
   "cell_type": "code",
   "execution_count": 8,
   "metadata": {},
   "outputs": [
    {
     "data": {
      "text/plain": [
       "0.03658945029321862"
      ]
     },
     "execution_count": 8,
     "metadata": {},
     "output_type": "execute_result"
    }
   ],
   "source": [
    "rf_model=RandomForestRegressor()\n",
    "rf_model.fit(X_train,y_train)\n",
    "y_pred=rf_model.predict(X_test)\n",
    "mean_squared_error(y_test,y_pred) # untuned random forest results"
   ]
  },
  {
   "cell_type": "markdown",
   "metadata": {},
   "source": [
    "### 2. tunned linear model - Elastic Net"
   ]
  },
  {
   "cell_type": "markdown",
   "metadata": {},
   "source": [
    "** objective function**  :  $ \\frac{1}{2n} ||y - \\beta X||^2_2 + \\alpha* ratio * ||\\beta||_1  + 0.5 * \\alpha * (1 - ratio) * ||\\beta||^2_2  $"
   ]
  },
  {
   "cell_type": "markdown",
   "metadata": {},
   "source": [
    "$$ x * L1 + y * L2 $$ \n",
    "$$\\alpha = x + y \\space and \\space ratio = \\frac{x}{  (x + y)} $$"
   ]
  },
  {
   "cell_type": "markdown",
   "metadata": {},
   "source": [
    "**alpha** control the total penalty for l2 and l1  \n",
    "**ratio** control the weight between l1 and l2"
   ]
  },
  {
   "cell_type": "code",
   "execution_count": 9,
   "metadata": {},
   "outputs": [],
   "source": [
    "elastic_model = ElasticNet()"
   ]
  },
  {
   "cell_type": "code",
   "execution_count": 10,
   "metadata": {
    "scrolled": true
   },
   "outputs": [
    {
     "name": "stdout",
     "output_type": "stream",
     "text": [
      "Fitting 5 folds for each of 36 candidates, totalling 180 fits\n"
     ]
    },
    {
     "name": "stderr",
     "output_type": "stream",
     "text": [
      "[Parallel(n_jobs=4)]: Done   1 tasks      | elapsed:    1.8s\n",
      "[Parallel(n_jobs=4)]: Done   2 tasks      | elapsed:    2.6s\n",
      "[Parallel(n_jobs=4)]: Done   3 tasks      | elapsed:    3.4s\n",
      "[Parallel(n_jobs=4)]: Done   4 tasks      | elapsed:    4.6s\n",
      "[Parallel(n_jobs=4)]: Done   5 tasks      | elapsed:    4.7s\n",
      "[Parallel(n_jobs=4)]: Done   6 tasks      | elapsed:    4.8s\n",
      "[Parallel(n_jobs=4)]: Done   7 tasks      | elapsed:    4.8s\n",
      "[Parallel(n_jobs=4)]: Done   8 tasks      | elapsed:    4.9s\n",
      "[Parallel(n_jobs=4)]: Done   9 tasks      | elapsed:    4.9s\n",
      "[Parallel(n_jobs=4)]: Done  10 tasks      | elapsed:    5.0s\n",
      "[Parallel(n_jobs=4)]: Done  11 tasks      | elapsed:    5.1s\n",
      "[Parallel(n_jobs=4)]: Done  12 tasks      | elapsed:    5.2s\n",
      "[Parallel(n_jobs=4)]: Done  13 tasks      | elapsed:    5.8s\n",
      "[Parallel(n_jobs=4)]: Done  14 tasks      | elapsed:    5.9s\n",
      "[Parallel(n_jobs=4)]: Done  15 tasks      | elapsed:    6.4s\n",
      "[Parallel(n_jobs=4)]: Done  16 tasks      | elapsed:    7.3s\n",
      "[Parallel(n_jobs=4)]: Done  17 tasks      | elapsed:    8.4s\n",
      "[Parallel(n_jobs=4)]: Done  18 tasks      | elapsed:    8.6s\n",
      "[Parallel(n_jobs=4)]: Done  19 tasks      | elapsed:    8.7s\n",
      "[Parallel(n_jobs=4)]: Done  20 tasks      | elapsed:    8.7s\n",
      "[Parallel(n_jobs=4)]: Done  21 tasks      | elapsed:    8.8s\n",
      "[Parallel(n_jobs=4)]: Done  22 tasks      | elapsed:    8.9s\n",
      "[Parallel(n_jobs=4)]: Done  23 tasks      | elapsed:    9.0s\n",
      "[Parallel(n_jobs=4)]: Done  24 tasks      | elapsed:    9.7s\n",
      "[Parallel(n_jobs=4)]: Done  25 tasks      | elapsed:   11.0s\n",
      "[Parallel(n_jobs=4)]: Done  26 tasks      | elapsed:   11.7s\n",
      "[Parallel(n_jobs=4)]: Done  27 tasks      | elapsed:   11.8s\n",
      "[Parallel(n_jobs=4)]: Done  28 tasks      | elapsed:   12.5s\n",
      "[Parallel(n_jobs=4)]: Done  29 tasks      | elapsed:   13.3s\n",
      "[Parallel(n_jobs=4)]: Done  30 tasks      | elapsed:   13.4s\n",
      "[Parallel(n_jobs=4)]: Done  31 tasks      | elapsed:   13.7s\n",
      "[Parallel(n_jobs=4)]: Done  32 tasks      | elapsed:   13.9s\n",
      "[Parallel(n_jobs=4)]: Done  33 tasks      | elapsed:   14.4s\n",
      "[Parallel(n_jobs=4)]: Done  34 tasks      | elapsed:   14.4s\n",
      "[Parallel(n_jobs=4)]: Done  35 tasks      | elapsed:   15.0s\n",
      "[Parallel(n_jobs=4)]: Done  36 tasks      | elapsed:   15.3s\n",
      "[Parallel(n_jobs=4)]: Done  37 tasks      | elapsed:   15.8s\n",
      "[Parallel(n_jobs=4)]: Done  38 tasks      | elapsed:   15.9s\n",
      "[Parallel(n_jobs=4)]: Done  39 tasks      | elapsed:   16.1s\n",
      "[Parallel(n_jobs=4)]: Done  40 tasks      | elapsed:   16.3s\n",
      "[Parallel(n_jobs=4)]: Done  41 tasks      | elapsed:   17.0s\n",
      "[Parallel(n_jobs=4)]: Done  42 tasks      | elapsed:   17.0s\n",
      "[Parallel(n_jobs=4)]: Done  43 tasks      | elapsed:   17.7s\n",
      "[Parallel(n_jobs=4)]: Done  44 tasks      | elapsed:   18.8s\n",
      "[Parallel(n_jobs=4)]: Done  45 tasks      | elapsed:   21.5s\n",
      "[Parallel(n_jobs=4)]: Done  46 tasks      | elapsed:   21.6s\n",
      "[Parallel(n_jobs=4)]: Done  47 tasks      | elapsed:   22.2s\n",
      "[Parallel(n_jobs=4)]: Done  48 tasks      | elapsed:   22.3s\n",
      "[Parallel(n_jobs=4)]: Done  49 tasks      | elapsed:   22.6s\n",
      "[Parallel(n_jobs=4)]: Done  50 tasks      | elapsed:   22.6s\n",
      "[Parallel(n_jobs=4)]: Done  51 tasks      | elapsed:   23.1s\n",
      "[Parallel(n_jobs=4)]: Done  52 tasks      | elapsed:   23.2s\n",
      "[Parallel(n_jobs=4)]: Done  53 tasks      | elapsed:   23.5s\n",
      "[Parallel(n_jobs=4)]: Done  54 tasks      | elapsed:   23.6s\n",
      "[Parallel(n_jobs=4)]: Done  55 tasks      | elapsed:   23.8s\n",
      "[Parallel(n_jobs=4)]: Done  56 tasks      | elapsed:   24.0s\n",
      "[Parallel(n_jobs=4)]: Done  57 tasks      | elapsed:   24.3s\n",
      "[Parallel(n_jobs=4)]: Done  58 tasks      | elapsed:   24.3s\n",
      "[Parallel(n_jobs=4)]: Done  59 tasks      | elapsed:   24.6s\n",
      "[Parallel(n_jobs=4)]: Done  60 tasks      | elapsed:   24.8s\n",
      "[Parallel(n_jobs=4)]: Done  61 tasks      | elapsed:   26.1s\n",
      "[Parallel(n_jobs=4)]: Done  62 tasks      | elapsed:   26.1s\n",
      "[Parallel(n_jobs=4)]: Done  63 tasks      | elapsed:   26.3s\n",
      "[Parallel(n_jobs=4)]: Done  64 tasks      | elapsed:   26.4s\n",
      "[Parallel(n_jobs=4)]: Done  65 tasks      | elapsed:   27.3s\n",
      "[Parallel(n_jobs=4)]: Done  66 tasks      | elapsed:   27.5s\n",
      "[Parallel(n_jobs=4)]: Done  67 tasks      | elapsed:   27.5s\n",
      "[Parallel(n_jobs=4)]: Done  68 tasks      | elapsed:   27.6s\n",
      "[Parallel(n_jobs=4)]: Done  69 tasks      | elapsed:   27.7s\n",
      "[Parallel(n_jobs=4)]: Done  70 tasks      | elapsed:   27.8s\n",
      "[Parallel(n_jobs=4)]: Done  71 tasks      | elapsed:   27.8s\n",
      "[Parallel(n_jobs=4)]: Done  72 tasks      | elapsed:   27.9s\n",
      "[Parallel(n_jobs=4)]: Done  73 tasks      | elapsed:   27.9s\n",
      "[Parallel(n_jobs=4)]: Done  74 tasks      | elapsed:   28.6s\n",
      "[Parallel(n_jobs=4)]: Done  75 tasks      | elapsed:   28.7s\n",
      "[Parallel(n_jobs=4)]: Done  76 tasks      | elapsed:   28.8s\n",
      "[Parallel(n_jobs=4)]: Done  77 tasks      | elapsed:   28.9s\n",
      "[Parallel(n_jobs=4)]: Done  78 tasks      | elapsed:   29.0s\n",
      "[Parallel(n_jobs=4)]: Done  79 tasks      | elapsed:   29.1s\n",
      "[Parallel(n_jobs=4)]: Done  80 tasks      | elapsed:   29.2s\n",
      "[Parallel(n_jobs=4)]: Done  81 tasks      | elapsed:   29.3s\n",
      "[Parallel(n_jobs=4)]: Done  82 tasks      | elapsed:   29.4s\n",
      "[Parallel(n_jobs=4)]: Done  83 tasks      | elapsed:   29.5s\n",
      "[Parallel(n_jobs=4)]: Done  84 tasks      | elapsed:   29.7s\n",
      "[Parallel(n_jobs=4)]: Done  85 tasks      | elapsed:   29.7s\n",
      "[Parallel(n_jobs=4)]: Done  86 tasks      | elapsed:   29.8s\n",
      "[Parallel(n_jobs=4)]: Done  87 tasks      | elapsed:   29.8s\n",
      "[Parallel(n_jobs=4)]: Done  88 tasks      | elapsed:   29.8s\n",
      "[Parallel(n_jobs=4)]: Done  89 tasks      | elapsed:   29.9s\n",
      "[Parallel(n_jobs=4)]: Done  90 tasks      | elapsed:   29.9s\n",
      "[Parallel(n_jobs=4)]: Done  91 tasks      | elapsed:   30.7s\n",
      "[Parallel(n_jobs=4)]: Done  92 tasks      | elapsed:   30.8s\n",
      "[Parallel(n_jobs=4)]: Done  93 tasks      | elapsed:   30.8s\n",
      "[Parallel(n_jobs=4)]: Done  94 tasks      | elapsed:   30.9s\n",
      "[Parallel(n_jobs=4)]: Done  95 tasks      | elapsed:   31.5s\n",
      "[Parallel(n_jobs=4)]: Done  96 tasks      | elapsed:   31.7s\n",
      "[Parallel(n_jobs=4)]: Done  97 tasks      | elapsed:   31.8s\n",
      "[Parallel(n_jobs=4)]: Done  98 tasks      | elapsed:   31.9s\n",
      "[Parallel(n_jobs=4)]: Done  99 tasks      | elapsed:   32.4s\n",
      "[Parallel(n_jobs=4)]: Done 100 tasks      | elapsed:   32.6s\n",
      "[Parallel(n_jobs=4)]: Done 101 tasks      | elapsed:   32.6s\n",
      "[Parallel(n_jobs=4)]: Done 102 tasks      | elapsed:   32.7s\n",
      "[Parallel(n_jobs=4)]: Done 103 tasks      | elapsed:   33.7s\n",
      "[Parallel(n_jobs=4)]: Done 104 tasks      | elapsed:   33.9s\n",
      "[Parallel(n_jobs=4)]: Done 105 tasks      | elapsed:   34.0s\n",
      "[Parallel(n_jobs=4)]: Done 106 tasks      | elapsed:   34.2s\n",
      "[Parallel(n_jobs=4)]: Done 107 tasks      | elapsed:   35.4s\n",
      "[Parallel(n_jobs=4)]: Done 108 tasks      | elapsed:   35.6s\n",
      "[Parallel(n_jobs=4)]: Done 109 tasks      | elapsed:   35.6s\n",
      "[Parallel(n_jobs=4)]: Done 110 tasks      | elapsed:   35.8s\n",
      "[Parallel(n_jobs=4)]: Done 111 tasks      | elapsed:   36.2s\n",
      "[Parallel(n_jobs=4)]: Done 112 tasks      | elapsed:   36.2s\n",
      "[Parallel(n_jobs=4)]: Done 113 tasks      | elapsed:   36.3s\n",
      "[Parallel(n_jobs=4)]: Done 114 tasks      | elapsed:   36.4s\n",
      "[Parallel(n_jobs=4)]: Done 115 tasks      | elapsed:   36.8s\n",
      "[Parallel(n_jobs=4)]: Done 116 tasks      | elapsed:   36.8s\n",
      "[Parallel(n_jobs=4)]: Done 117 tasks      | elapsed:   36.9s\n",
      "[Parallel(n_jobs=4)]: Done 118 tasks      | elapsed:   37.0s\n",
      "[Parallel(n_jobs=4)]: Done 119 tasks      | elapsed:   37.3s\n",
      "[Parallel(n_jobs=4)]: Done 120 tasks      | elapsed:   37.3s\n",
      "[Parallel(n_jobs=4)]: Done 121 tasks      | elapsed:   37.8s\n",
      "[Parallel(n_jobs=4)]: Done 122 tasks      | elapsed:   38.1s\n",
      "[Parallel(n_jobs=4)]: Done 123 tasks      | elapsed:   38.2s\n",
      "[Parallel(n_jobs=4)]: Done 124 tasks      | elapsed:   38.4s\n",
      "[Parallel(n_jobs=4)]: Done 125 tasks      | elapsed:   38.8s\n",
      "[Parallel(n_jobs=4)]: Done 126 tasks      | elapsed:   39.3s\n",
      "[Parallel(n_jobs=4)]: Done 127 tasks      | elapsed:   39.3s\n",
      "[Parallel(n_jobs=4)]: Done 128 tasks      | elapsed:   39.4s\n",
      "[Parallel(n_jobs=4)]: Done 129 tasks      | elapsed:   39.5s\n",
      "[Parallel(n_jobs=4)]: Done 130 tasks      | elapsed:   39.5s\n",
      "[Parallel(n_jobs=4)]: Done 131 tasks      | elapsed:   39.6s\n",
      "[Parallel(n_jobs=4)]: Done 132 tasks      | elapsed:   39.7s\n",
      "[Parallel(n_jobs=4)]: Done 133 tasks      | elapsed:   39.8s\n",
      "[Parallel(n_jobs=4)]: Done 134 tasks      | elapsed:   39.9s\n",
      "[Parallel(n_jobs=4)]: Done 135 tasks      | elapsed:   40.0s\n",
      "[Parallel(n_jobs=4)]: Done 136 tasks      | elapsed:   40.0s\n"
     ]
    },
    {
     "name": "stderr",
     "output_type": "stream",
     "text": [
      "[Parallel(n_jobs=4)]: Done 137 tasks      | elapsed:   40.1s\n",
      "[Parallel(n_jobs=4)]: Done 138 tasks      | elapsed:   40.1s\n",
      "[Parallel(n_jobs=4)]: Done 139 tasks      | elapsed:   40.2s\n",
      "[Parallel(n_jobs=4)]: Done 140 tasks      | elapsed:   40.2s\n",
      "[Parallel(n_jobs=4)]: Done 141 tasks      | elapsed:   40.3s\n",
      "[Parallel(n_jobs=4)]: Done 142 tasks      | elapsed:   40.3s\n",
      "[Parallel(n_jobs=4)]: Done 143 tasks      | elapsed:   40.4s\n",
      "[Parallel(n_jobs=4)]: Done 144 tasks      | elapsed:   40.5s\n",
      "[Parallel(n_jobs=4)]: Done 145 tasks      | elapsed:   40.5s\n",
      "[Parallel(n_jobs=4)]: Done 146 tasks      | elapsed:   40.6s\n",
      "[Parallel(n_jobs=4)]: Done 147 tasks      | elapsed:   40.7s\n",
      "[Parallel(n_jobs=4)]: Done 148 tasks      | elapsed:   40.8s\n",
      "[Parallel(n_jobs=4)]: Done 149 tasks      | elapsed:   41.1s\n",
      "[Parallel(n_jobs=4)]: Done 150 tasks      | elapsed:   41.9s\n",
      "[Parallel(n_jobs=4)]: Done 151 tasks      | elapsed:   41.9s\n",
      "[Parallel(n_jobs=4)]: Done 152 tasks      | elapsed:   41.9s\n",
      "[Parallel(n_jobs=4)]: Done 153 tasks      | elapsed:   42.3s\n",
      "[Parallel(n_jobs=4)]: Done 154 tasks      | elapsed:   43.5s\n",
      "[Parallel(n_jobs=4)]: Done 155 tasks      | elapsed:   43.6s\n",
      "[Parallel(n_jobs=4)]: Done 156 tasks      | elapsed:   43.7s\n",
      "[Parallel(n_jobs=4)]: Done 157 tasks      | elapsed:   43.8s\n",
      "[Parallel(n_jobs=4)]: Done 158 tasks      | elapsed:   44.4s\n",
      "[Parallel(n_jobs=4)]: Done 159 tasks      | elapsed:   44.4s\n",
      "[Parallel(n_jobs=4)]: Done 160 tasks      | elapsed:   44.5s\n",
      "[Parallel(n_jobs=4)]: Done 161 tasks      | elapsed:   44.6s\n",
      "[Parallel(n_jobs=4)]: Done 162 tasks      | elapsed:   44.9s\n",
      "[Parallel(n_jobs=4)]: Done 163 tasks      | elapsed:   45.0s\n",
      "[Parallel(n_jobs=4)]: Done 164 tasks      | elapsed:   45.1s\n",
      "[Parallel(n_jobs=4)]: Done 165 tasks      | elapsed:   45.1s\n",
      "[Parallel(n_jobs=4)]: Done 166 tasks      | elapsed:   45.5s\n",
      "[Parallel(n_jobs=4)]: Done 167 tasks      | elapsed:   45.5s\n",
      "[Parallel(n_jobs=4)]: Done 168 tasks      | elapsed:   45.6s\n",
      "[Parallel(n_jobs=4)]: Done 169 tasks      | elapsed:   45.6s\n",
      "[Parallel(n_jobs=4)]: Done 170 tasks      | elapsed:   46.0s\n",
      "[Parallel(n_jobs=4)]: Done 171 tasks      | elapsed:   46.1s\n",
      "[Parallel(n_jobs=4)]: Done 172 tasks      | elapsed:   46.1s\n",
      "[Parallel(n_jobs=4)]: Done 173 tasks      | elapsed:   46.2s\n",
      "[Parallel(n_jobs=4)]: Done 180 out of 180 | elapsed:   47.0s finished\n",
      "C:\\Wesley_Tao\\6.Software\\Anaconda\\lib\\site-packages\\sklearn\\linear_model\\coordinate_descent.py:491: ConvergenceWarning: Objective did not converge. You might want to increase the number of iterations. Fitting data with very small alpha may cause precision problems.\n",
      "  ConvergenceWarning)\n",
      "C:\\Wesley_Tao\\6.Software\\Anaconda\\lib\\site-packages\\sklearn\\model_selection\\_search.py:761: DeprecationWarning: The grid_scores_ attribute was deprecated in version 0.18 in favor of the more elaborate cv_results_ attribute. The grid_scores_ attribute will not be available from 0.20\n",
      "  DeprecationWarning)\n"
     ]
    },
    {
     "data": {
      "text/plain": [
       "([mean: -0.26196, std: 0.00469, params: {'alpha': 0.01, 'fit_intercept': True, 'l1_ratio': 0.0, 'normalize': True},\n",
       "  mean: -0.06781, std: 0.00194, params: {'alpha': 0.01, 'fit_intercept': True, 'l1_ratio': 0.0, 'normalize': False},\n",
       "  mean: -0.27407, std: 0.00482, params: {'alpha': 0.01, 'fit_intercept': True, 'l1_ratio': 0.5, 'normalize': True},\n",
       "  mean: -0.06953, std: 0.00201, params: {'alpha': 0.01, 'fit_intercept': True, 'l1_ratio': 0.5, 'normalize': False},\n",
       "  mean: -0.27407, std: 0.00482, params: {'alpha': 0.01, 'fit_intercept': True, 'l1_ratio': 1, 'normalize': True},\n",
       "  mean: -0.07146, std: 0.00213, params: {'alpha': 0.01, 'fit_intercept': True, 'l1_ratio': 1, 'normalize': False},\n",
       "  mean: -0.13700, std: 0.00451, params: {'alpha': 0.01, 'fit_intercept': False, 'l1_ratio': 0.0, 'normalize': True},\n",
       "  mean: -0.13700, std: 0.00451, params: {'alpha': 0.01, 'fit_intercept': False, 'l1_ratio': 0.0, 'normalize': False},\n",
       "  mean: -0.13793, std: 0.00433, params: {'alpha': 0.01, 'fit_intercept': False, 'l1_ratio': 0.5, 'normalize': True},\n",
       "  mean: -0.13793, std: 0.00433, params: {'alpha': 0.01, 'fit_intercept': False, 'l1_ratio': 0.5, 'normalize': False},\n",
       "  mean: -0.13865, std: 0.00424, params: {'alpha': 0.01, 'fit_intercept': False, 'l1_ratio': 1, 'normalize': True},\n",
       "  mean: -0.13865, std: 0.00424, params: {'alpha': 0.01, 'fit_intercept': False, 'l1_ratio': 1, 'normalize': False},\n",
       "  mean: -0.27279, std: 0.00481, params: {'alpha': 0.1, 'fit_intercept': True, 'l1_ratio': 0.0, 'normalize': True},\n",
       "  mean: -0.08800, std: 0.00227, params: {'alpha': 0.1, 'fit_intercept': True, 'l1_ratio': 0.0, 'normalize': False},\n",
       "  mean: -0.27407, std: 0.00482, params: {'alpha': 0.1, 'fit_intercept': True, 'l1_ratio': 0.5, 'normalize': True},\n",
       "  mean: -0.10887, std: 0.00246, params: {'alpha': 0.1, 'fit_intercept': True, 'l1_ratio': 0.5, 'normalize': False},\n",
       "  mean: -0.27407, std: 0.00482, params: {'alpha': 0.1, 'fit_intercept': True, 'l1_ratio': 1, 'normalize': True},\n",
       "  mean: -0.12453, std: 0.00253, params: {'alpha': 0.1, 'fit_intercept': True, 'l1_ratio': 1, 'normalize': False},\n",
       "  mean: -0.13886, std: 0.00432, params: {'alpha': 0.1, 'fit_intercept': False, 'l1_ratio': 0.0, 'normalize': True},\n",
       "  mean: -0.13886, std: 0.00432, params: {'alpha': 0.1, 'fit_intercept': False, 'l1_ratio': 0.0, 'normalize': False},\n",
       "  mean: -0.15767, std: 0.00369, params: {'alpha': 0.1, 'fit_intercept': False, 'l1_ratio': 0.5, 'normalize': True},\n",
       "  mean: -0.15767, std: 0.00369, params: {'alpha': 0.1, 'fit_intercept': False, 'l1_ratio': 0.5, 'normalize': False},\n",
       "  mean: -0.16651, std: 0.00363, params: {'alpha': 0.1, 'fit_intercept': False, 'l1_ratio': 1, 'normalize': True},\n",
       "  mean: -0.16651, std: 0.00363, params: {'alpha': 0.1, 'fit_intercept': False, 'l1_ratio': 1, 'normalize': False},\n",
       "  mean: -0.27343, std: 0.00482, params: {'alpha': 0.2, 'fit_intercept': True, 'l1_ratio': 0.0, 'normalize': True},\n",
       "  mean: -0.09347, std: 0.00233, params: {'alpha': 0.2, 'fit_intercept': True, 'l1_ratio': 0.0, 'normalize': False},\n",
       "  mean: -0.27407, std: 0.00482, params: {'alpha': 0.2, 'fit_intercept': True, 'l1_ratio': 0.5, 'normalize': True},\n",
       "  mean: -0.12469, std: 0.00252, params: {'alpha': 0.2, 'fit_intercept': True, 'l1_ratio': 0.5, 'normalize': False},\n",
       "  mean: -0.27407, std: 0.00482, params: {'alpha': 0.2, 'fit_intercept': True, 'l1_ratio': 1, 'normalize': True},\n",
       "  mean: -0.12545, std: 0.00248, params: {'alpha': 0.2, 'fit_intercept': True, 'l1_ratio': 1, 'normalize': False},\n",
       "  mean: -0.14115, std: 0.00424, params: {'alpha': 0.2, 'fit_intercept': False, 'l1_ratio': 0.0, 'normalize': True},\n",
       "  mean: -0.14115, std: 0.00424, params: {'alpha': 0.2, 'fit_intercept': False, 'l1_ratio': 0.0, 'normalize': False},\n",
       "  mean: -0.16653, std: 0.00364, params: {'alpha': 0.2, 'fit_intercept': False, 'l1_ratio': 0.5, 'normalize': True},\n",
       "  mean: -0.16653, std: 0.00364, params: {'alpha': 0.2, 'fit_intercept': False, 'l1_ratio': 0.5, 'normalize': False},\n",
       "  mean: -0.16614, std: 0.00363, params: {'alpha': 0.2, 'fit_intercept': False, 'l1_ratio': 1, 'normalize': True},\n",
       "  mean: -0.16614, std: 0.00363, params: {'alpha': 0.2, 'fit_intercept': False, 'l1_ratio': 1, 'normalize': False}],\n",
       " {'alpha': 0.01, 'fit_intercept': True, 'l1_ratio': 0.0, 'normalize': False},\n",
       " -0.06781044351344419)"
      ]
     },
     "execution_count": 10,
     "metadata": {},
     "output_type": "execute_result"
    }
   ],
   "source": [
    "param_test1 = {\n",
    "     \"alpha\":[0.01,0.1,0.2],\n",
    "    'l1_ratio':[0.0,0.5,1],\n",
    "    'fit_intercept': [True,False],\n",
    "    'normalize':[True,False]\n",
    "}\n",
    "gsearch1 = GridSearchCV(estimator = elastic_model, \n",
    "param_grid = param_test1, scoring='neg_mean_squared_error',n_jobs=4,iid=False, cv=5,verbose=20)\n",
    "gsearch1.fit(X_train,y_train)\n",
    "gsearch1.grid_scores_, gsearch1.best_params_, gsearch1.best_score_"
   ]
  },
  {
   "cell_type": "code",
   "execution_count": 11,
   "metadata": {},
   "outputs": [
    {
     "data": {
      "text/plain": [
       "ElasticNet(alpha=0.01, copy_X=True, fit_intercept=True, l1_ratio=0.0,\n",
       "      max_iter=1000, normalize=False, positive=False, precompute=False,\n",
       "      random_state=None, selection='cyclic', tol=0.0001, warm_start=False)"
      ]
     },
     "execution_count": 11,
     "metadata": {},
     "output_type": "execute_result"
    }
   ],
   "source": [
    "elastic_model.set_params(**gsearch1.best_params_)"
   ]
  },
  {
   "cell_type": "code",
   "execution_count": 12,
   "metadata": {},
   "outputs": [
    {
     "name": "stderr",
     "output_type": "stream",
     "text": [
      "C:\\Wesley_Tao\\6.Software\\Anaconda\\lib\\site-packages\\sklearn\\linear_model\\coordinate_descent.py:491: ConvergenceWarning: Objective did not converge. You might want to increase the number of iterations. Fitting data with very small alpha may cause precision problems.\n",
      "  ConvergenceWarning)\n"
     ]
    },
    {
     "data": {
      "text/plain": [
       "0.06947561889100491"
      ]
     },
     "execution_count": 12,
     "metadata": {},
     "output_type": "execute_result"
    }
   ],
   "source": [
    "elastic_model.fit(X_train,y_train)\n",
    "y_pred=elastic_model.predict(X_test)\n",
    "mean_squared_error(y_test,y_pred)"
   ]
  },
  {
   "cell_type": "markdown",
   "metadata": {},
   "source": [
    "# light GBM"
   ]
  },
  {
   "cell_type": "markdown",
   "metadata": {},
   "source": [
    "** objective function**  is L2 loss"
   ]
  },
  {
   "cell_type": "markdown",
   "metadata": {},
   "source": [
    "**Input**: I: training data, d: iterations  \n",
    "**Input**: a: sampling ratio of large gradient data  \n",
    "**Input**: b: sampling ratio of small gradient data  \n",
    "**Input**: loss: loss function, L: weak learner  \n",
    "models ← {}, fact ← (1−a)/b  \n",
    "topN ← a × len(I) , randN ← b × len(I)  \n",
    "**for i = 1 to d do **  \n",
    "&ensp; preds ← models.predict(I)  \n",
    "&ensp; g ← loss(I, preds), w ← {1,1,...}  \n",
    "&ensp;  sorted ← GetSortedIndices(abs(g))  \n",
    "&ensp; topSet ← sorted[1:topN]  \n",
    "&ensp; randSet ← RandomPick(sorted[topN:len(I)],randN)  \n",
    "&ensp; usedSet ← topSet + randSet  \n",
    "&ensp; w[randSet] × = fact . Assign weight f act to the small gradient data.  \n",
    "&ensp; newModel ← L(I[usedSet], − g[usedSet],w[usedSet])  \n",
    "&ensp; models.append(newModel)"
   ]
  },
  {
   "cell_type": "markdown",
   "metadata": {},
   "source": [
    "LightGBM offers good accuracy with integer-encoded categorical features.   \n",
    "LightGBM applies Fisher (1958) to find the optimal split over categories as described here. This often performs better than **one-hot encoding**.  \n",
    "\n",
    "**Categorical features** must be encoded as non-negative integers (int) less than Int32.MaxValue (2147483647). It is best to use a **contiguous range of integers**.  \n",
    "Use categorical_feature to specify the categorical features. Refer to the parameter categorical_feature in Parameters. \n",
    "\n",
    "Use **min_data_per_group, cat_smooth** to deal with over-fitting (when #data is small or #category is large).  \n",
    "\n",
    "For a categorical feature with high cardinality (#category is large), it often works best to treat the feature as numeric, either by simply ignoring the categorical interpretation of the integers or by embedding the categories in a low-dimensional numeric space.  "
   ]
  },
  {
   "cell_type": "code",
   "execution_count": 13,
   "metadata": {},
   "outputs": [
    {
     "data": {
      "text/plain": [
       "LGBMRegressor(bagging_fraction=0.8, bagging_freq=1, boosting_type='gbdt',\n",
       "       class_weight=None, colsample_bytree=1.0, learning_rate=0.1,\n",
       "       max_bin=100, max_depth=-1, metric='rmse', min_child_samples=20,\n",
       "       min_child_weight=0.001, min_data_in_leaf=80, min_split_gain=0.0,\n",
       "       n_estimators=3000, n_jobs=-1, num_leaves=50, objective=None,\n",
       "       random_state=None, reg_alpha=0.0, reg_lambda=0.0, save_binary=True,\n",
       "       silent=True, subsample=1.0, subsample_for_bin=200000,\n",
       "       subsample_freq=0)"
      ]
     },
     "execution_count": 13,
     "metadata": {},
     "output_type": "execute_result"
    }
   ],
   "source": [
    "lgb_model=LGBMRegressor()\n",
    "lgbm_params = {\n",
    "    \"n_estimators\":3000,\n",
    "    \"boosting_type\":\"gbdt\",\n",
    "#     \"application\":\"conitunous\",\n",
    "    \"learning_rate\":0.1, \n",
    "    \"min_data_in_leaf\":80, # dealt with overfiting\n",
    "    \"num_leaves\":50,\n",
    "#     \"min_data_per_group\":[10,30,50],\n",
    "#     \"cat_smooth\":[0,0.5,1],\n",
    "    \"max_depth\":-1,\n",
    "#     \"scale_pos_weight\":2,\n",
    "#     \"drop_rate\":0.02,\n",
    "    \"bagging_freq\":1,\n",
    "    \"bagging_fraction\":0.8,\n",
    "    \"metric\":\"rmse\",\n",
    "    \"min_split_gain\":0.0,\n",
    "#     \"colsample_bytree\":0.0\n",
    "    \"save_binary\":True,\n",
    "    \"max_bin\":100\n",
    "}\n",
    "lgb_model.set_params(**lgbm_params) #base model"
   ]
  },
  {
   "cell_type": "code",
   "execution_count": 14,
   "metadata": {},
   "outputs": [],
   "source": [
    "lgbm_train = lgb.Dataset(data=X_train,\n",
    "                          label=y_train,\n",
    "#                           categorical_feature=cat_col,\n",
    "                          free_raw_data=False)"
   ]
  },
  {
   "cell_type": "code",
   "execution_count": 15,
   "metadata": {},
   "outputs": [
    {
     "name": "stderr",
     "output_type": "stream",
     "text": [
      "C:\\Wesley_Tao\\6.Software\\Anaconda\\lib\\site-packages\\lightgbm\\engine.py:394: UserWarning: Found `n_estimators` in params. Will use it instead of argument\n",
      "  warnings.warn(\"Found `{}` in params. Will use it instead of argument\".format(alias))\n"
     ]
    },
    {
     "name": "stdout",
     "output_type": "stream",
     "text": [
      "[50]\tcv_agg's l2: 0.0315795 + 0.0017749\n",
      "[100]\tcv_agg's l2: 0.0304633 + 0.00177822\n",
      "[150]\tcv_agg's l2: 0.0304682 + 0.00178045\n",
      "[200]\tcv_agg's l2: 0.030597 + 0.00178114\n",
      "[250]\tcv_agg's l2: 0.0307724 + 0.00169357\n",
      "[300]\tcv_agg's l2: 0.0309726 + 0.00173147\n"
     ]
    }
   ],
   "source": [
    "cv_results = lgb.cv(train_set=lgbm_train,\n",
    "                     params=lgbm_params,\n",
    "                     nfold=5,\n",
    "                     num_boost_round=1000,\n",
    "                     early_stopping_rounds=200,\n",
    "                     stratified=False,\n",
    "#                      objective=\"regression\",\n",
    "                     verbose_eval=50,\n",
    "                     metrics=['mse'])"
   ]
  },
  {
   "cell_type": "code",
   "execution_count": 16,
   "metadata": {},
   "outputs": [
    {
     "name": "stdout",
     "output_type": "stream",
     "text": [
      "Optimum boost rounds = 122\n",
      "Best LGBM CV result = 0.03038865614705775\n"
     ]
    }
   ],
   "source": [
    "optimum_boost_rounds = np.argmin(cv_results['l2-mean'])\n",
    "print('Optimum boost rounds = {}'.format(optimum_boost_rounds))\n",
    "print('Best LGBM CV result = {}'.format(np.min(cv_results['l2-mean']))) #cv_agg's mape: 0.0418631 + 0.000355628"
   ]
  },
  {
   "cell_type": "markdown",
   "metadata": {},
   "source": [
    "# parameter tuning\n",
    "**max num_leaves**  This is the main parameter to control the complexity of the tree model.   \n",
    "Theoretically, we can set num_leaves = 2^(max_depth) to obtain the same number of leaves as depth-wise tree. \n",
    "\n",
    "**min_data_in_leaf** This is a very important parameter to prevent over-fitting in a leaf-wise tree.   \n",
    "Its optimal value depends on the number of training samples and num_leaves.   \n",
    "Setting it to a large value can avoid growing too deep a tree, but may cause under-fitting.   \n",
    "In practice, setting it to hundreds or thousands is enough for a large dataset.\n",
    "\n",
    "**max_depth. ** You also can use max_depth to limit the tree depth explicitly."
   ]
  },
  {
   "cell_type": "code",
   "execution_count": 17,
   "metadata": {},
   "outputs": [
    {
     "data": {
      "text/plain": [
       "LGBMRegressor(bagging_fraction=0.8, bagging_freq=1, boosting_type='gbdt',\n",
       "       class_weight=None, colsample_bytree=1.0, learning_rate=0.1,\n",
       "       max_bin=100, max_depth=-1, metric='rmse', min_child_samples=20,\n",
       "       min_child_weight=0.001, min_data_in_leaf=80, min_split_gain=0.0,\n",
       "       n_estimators=122, n_jobs=-1, num_leaves=50, objective=None,\n",
       "       random_state=None, reg_alpha=0.0, reg_lambda=0.0, save_binary=True,\n",
       "       silent=True, subsample=1.0, subsample_for_bin=200000,\n",
       "       subsample_freq=0)"
      ]
     },
     "execution_count": 17,
     "metadata": {},
     "output_type": "execute_result"
    }
   ],
   "source": [
    "lgb_model.set_params(n_estimators=122)"
   ]
  },
  {
   "cell_type": "code",
   "execution_count": 18,
   "metadata": {},
   "outputs": [
    {
     "name": "stdout",
     "output_type": "stream",
     "text": [
      "Fitting 5 folds for each of 45 candidates, totalling 225 fits\n"
     ]
    },
    {
     "name": "stderr",
     "output_type": "stream",
     "text": [
      "[Parallel(n_jobs=4)]: Done   1 tasks      | elapsed:    2.1s\n",
      "[Parallel(n_jobs=4)]: Done   2 tasks      | elapsed:    3.1s\n",
      "[Parallel(n_jobs=4)]: Done   3 tasks      | elapsed:    4.0s\n",
      "[Parallel(n_jobs=4)]: Done   4 tasks      | elapsed:    5.9s\n",
      "[Parallel(n_jobs=4)]: Done   5 tasks      | elapsed:    5.9s\n",
      "[Parallel(n_jobs=4)]: Done   6 tasks      | elapsed:    6.9s\n",
      "[Parallel(n_jobs=4)]: Done   7 tasks      | elapsed:    7.0s\n",
      "[Parallel(n_jobs=4)]: Done   8 tasks      | elapsed:    7.6s\n",
      "[Parallel(n_jobs=4)]: Done   9 tasks      | elapsed:    7.6s\n",
      "[Parallel(n_jobs=4)]: Done  10 tasks      | elapsed:    8.6s\n",
      "[Parallel(n_jobs=4)]: Done  11 tasks      | elapsed:    9.3s\n",
      "[Parallel(n_jobs=4)]: Done  12 tasks      | elapsed:   10.0s\n",
      "[Parallel(n_jobs=4)]: Done  13 tasks      | elapsed:   10.1s\n",
      "[Parallel(n_jobs=4)]: Done  14 tasks      | elapsed:   13.3s\n",
      "[Parallel(n_jobs=4)]: Done  15 tasks      | elapsed:   13.3s\n",
      "[Parallel(n_jobs=4)]: Done  16 tasks      | elapsed:   13.8s\n",
      "[Parallel(n_jobs=4)]: Done  17 tasks      | elapsed:   14.3s\n",
      "[Parallel(n_jobs=4)]: Done  18 tasks      | elapsed:   14.4s\n",
      "[Parallel(n_jobs=4)]: Done  19 tasks      | elapsed:   14.8s\n",
      "[Parallel(n_jobs=4)]: Done  20 tasks      | elapsed:   15.5s\n",
      "[Parallel(n_jobs=4)]: Done  21 tasks      | elapsed:   16.2s\n",
      "[Parallel(n_jobs=4)]: Done  22 tasks      | elapsed:   16.3s\n",
      "[Parallel(n_jobs=4)]: Done  23 tasks      | elapsed:   16.7s\n",
      "[Parallel(n_jobs=4)]: Done  24 tasks      | elapsed:   17.0s\n",
      "[Parallel(n_jobs=4)]: Done  25 tasks      | elapsed:   17.6s\n",
      "[Parallel(n_jobs=4)]: Done  26 tasks      | elapsed:   18.2s\n",
      "[Parallel(n_jobs=4)]: Done  27 tasks      | elapsed:   18.6s\n",
      "[Parallel(n_jobs=4)]: Done  28 tasks      | elapsed:   18.9s\n",
      "[Parallel(n_jobs=4)]: Done  29 tasks      | elapsed:   19.2s\n",
      "[Parallel(n_jobs=4)]: Done  30 tasks      | elapsed:   19.5s\n",
      "[Parallel(n_jobs=4)]: Done  31 tasks      | elapsed:   19.6s\n",
      "[Parallel(n_jobs=4)]: Done  32 tasks      | elapsed:   20.0s\n",
      "[Parallel(n_jobs=4)]: Done  33 tasks      | elapsed:   20.3s\n",
      "[Parallel(n_jobs=4)]: Done  34 tasks      | elapsed:   20.4s\n",
      "[Parallel(n_jobs=4)]: Done  35 tasks      | elapsed:   20.9s\n",
      "[Parallel(n_jobs=4)]: Done  36 tasks      | elapsed:   23.3s\n",
      "[Parallel(n_jobs=4)]: Done  37 tasks      | elapsed:   23.7s\n",
      "[Parallel(n_jobs=4)]: Done  38 tasks      | elapsed:   24.2s\n",
      "[Parallel(n_jobs=4)]: Done  39 tasks      | elapsed:   24.9s\n",
      "[Parallel(n_jobs=4)]: Done  40 tasks      | elapsed:   26.1s\n",
      "[Parallel(n_jobs=4)]: Done  41 tasks      | elapsed:   26.8s\n",
      "[Parallel(n_jobs=4)]: Done  42 tasks      | elapsed:   27.0s\n",
      "[Parallel(n_jobs=4)]: Done  43 tasks      | elapsed:   27.4s\n",
      "[Parallel(n_jobs=4)]: Done  44 tasks      | elapsed:   27.8s\n",
      "[Parallel(n_jobs=4)]: Done  45 tasks      | elapsed:   28.0s\n",
      "[Parallel(n_jobs=4)]: Done  46 tasks      | elapsed:   28.5s\n",
      "[Parallel(n_jobs=4)]: Done  47 tasks      | elapsed:   28.6s\n",
      "[Parallel(n_jobs=4)]: Done  48 tasks      | elapsed:   28.8s\n",
      "[Parallel(n_jobs=4)]: Done  49 tasks      | elapsed:   29.1s\n",
      "[Parallel(n_jobs=4)]: Done  50 tasks      | elapsed:   29.4s\n",
      "[Parallel(n_jobs=4)]: Done  51 tasks      | elapsed:   30.0s\n",
      "[Parallel(n_jobs=4)]: Done  52 tasks      | elapsed:   30.2s\n",
      "[Parallel(n_jobs=4)]: Done  53 tasks      | elapsed:   30.6s\n",
      "[Parallel(n_jobs=4)]: Done  54 tasks      | elapsed:   30.8s\n",
      "[Parallel(n_jobs=4)]: Done  55 tasks      | elapsed:   31.5s\n",
      "[Parallel(n_jobs=4)]: Done  56 tasks      | elapsed:   32.2s\n",
      "[Parallel(n_jobs=4)]: Done  57 tasks      | elapsed:   32.6s\n",
      "[Parallel(n_jobs=4)]: Done  58 tasks      | elapsed:   32.8s\n",
      "[Parallel(n_jobs=4)]: Done  59 tasks      | elapsed:   33.3s\n",
      "[Parallel(n_jobs=4)]: Done  60 tasks      | elapsed:   33.5s\n",
      "[Parallel(n_jobs=4)]: Done  61 tasks      | elapsed:   33.6s\n",
      "[Parallel(n_jobs=4)]: Done  62 tasks      | elapsed:   34.1s\n",
      "[Parallel(n_jobs=4)]: Done  63 tasks      | elapsed:   34.2s\n",
      "[Parallel(n_jobs=4)]: Done  64 tasks      | elapsed:   34.4s\n",
      "[Parallel(n_jobs=4)]: Done  65 tasks      | elapsed:   34.7s\n",
      "[Parallel(n_jobs=4)]: Done  66 tasks      | elapsed:   35.6s\n",
      "[Parallel(n_jobs=4)]: Done  67 tasks      | elapsed:   35.8s\n",
      "[Parallel(n_jobs=4)]: Done  68 tasks      | elapsed:   36.0s\n",
      "[Parallel(n_jobs=4)]: Done  69 tasks      | elapsed:   36.3s\n",
      "[Parallel(n_jobs=4)]: Done  70 tasks      | elapsed:   37.1s\n",
      "[Parallel(n_jobs=4)]: Done  71 tasks      | elapsed:   37.7s\n",
      "[Parallel(n_jobs=4)]: Done  72 tasks      | elapsed:   38.0s\n",
      "[Parallel(n_jobs=4)]: Done  73 tasks      | elapsed:   38.3s\n",
      "[Parallel(n_jobs=4)]: Done  74 tasks      | elapsed:   38.7s\n",
      "[Parallel(n_jobs=4)]: Done  75 tasks      | elapsed:   38.9s\n",
      "[Parallel(n_jobs=4)]: Done  76 tasks      | elapsed:   39.4s\n",
      "[Parallel(n_jobs=4)]: Done  77 tasks      | elapsed:   39.6s\n",
      "[Parallel(n_jobs=4)]: Done  78 tasks      | elapsed:   40.0s\n",
      "[Parallel(n_jobs=4)]: Done  79 tasks      | elapsed:   40.4s\n",
      "[Parallel(n_jobs=4)]: Done  80 tasks      | elapsed:   40.8s\n",
      "[Parallel(n_jobs=4)]: Done  81 tasks      | elapsed:   41.6s\n",
      "[Parallel(n_jobs=4)]: Done  82 tasks      | elapsed:   41.9s\n",
      "[Parallel(n_jobs=4)]: Done  83 tasks      | elapsed:   42.2s\n",
      "[Parallel(n_jobs=4)]: Done  84 tasks      | elapsed:   42.4s\n",
      "[Parallel(n_jobs=4)]: Done  85 tasks      | elapsed:   43.0s\n",
      "[Parallel(n_jobs=4)]: Done  86 tasks      | elapsed:   43.8s\n",
      "[Parallel(n_jobs=4)]: Done  87 tasks      | elapsed:   44.2s\n",
      "[Parallel(n_jobs=4)]: Done  88 tasks      | elapsed:   44.4s\n",
      "[Parallel(n_jobs=4)]: Done  89 tasks      | elapsed:   44.9s\n",
      "[Parallel(n_jobs=4)]: Done  90 tasks      | elapsed:   45.1s\n",
      "[Parallel(n_jobs=4)]: Done  91 tasks      | elapsed:   45.3s\n",
      "[Parallel(n_jobs=4)]: Done  92 tasks      | elapsed:   45.6s\n",
      "[Parallel(n_jobs=4)]: Done  93 tasks      | elapsed:   45.9s\n",
      "[Parallel(n_jobs=4)]: Done  94 tasks      | elapsed:   46.0s\n",
      "[Parallel(n_jobs=4)]: Done  95 tasks      | elapsed:   46.4s\n",
      "[Parallel(n_jobs=4)]: Done  96 tasks      | elapsed:   47.0s\n",
      "[Parallel(n_jobs=4)]: Done  97 tasks      | elapsed:   47.2s\n",
      "[Parallel(n_jobs=4)]: Done  98 tasks      | elapsed:   47.4s\n",
      "[Parallel(n_jobs=4)]: Done  99 tasks      | elapsed:   47.8s\n",
      "[Parallel(n_jobs=4)]: Done 100 tasks      | elapsed:   48.3s\n",
      "[Parallel(n_jobs=4)]: Done 101 tasks      | elapsed:   49.1s\n",
      "[Parallel(n_jobs=4)]: Done 102 tasks      | elapsed:   49.2s\n",
      "[Parallel(n_jobs=4)]: Done 103 tasks      | elapsed:   49.7s\n",
      "[Parallel(n_jobs=4)]: Done 104 tasks      | elapsed:   50.0s\n",
      "[Parallel(n_jobs=4)]: Done 105 tasks      | elapsed:   50.5s\n",
      "[Parallel(n_jobs=4)]: Done 106 tasks      | elapsed:   50.8s\n",
      "[Parallel(n_jobs=4)]: Done 107 tasks      | elapsed:   51.0s\n",
      "[Parallel(n_jobs=4)]: Done 108 tasks      | elapsed:   51.4s\n",
      "[Parallel(n_jobs=4)]: Done 109 tasks      | elapsed:   51.6s\n",
      "[Parallel(n_jobs=4)]: Done 110 tasks      | elapsed:   52.1s\n",
      "[Parallel(n_jobs=4)]: Done 111 tasks      | elapsed:   52.7s\n",
      "[Parallel(n_jobs=4)]: Done 112 tasks      | elapsed:   53.2s\n",
      "[Parallel(n_jobs=4)]: Done 113 tasks      | elapsed:   53.5s\n",
      "[Parallel(n_jobs=4)]: Done 114 tasks      | elapsed:   53.9s\n",
      "[Parallel(n_jobs=4)]: Done 115 tasks      | elapsed:   54.7s\n",
      "[Parallel(n_jobs=4)]: Done 116 tasks      | elapsed:   55.6s\n",
      "[Parallel(n_jobs=4)]: Done 117 tasks      | elapsed:   55.9s\n",
      "[Parallel(n_jobs=4)]: Done 118 tasks      | elapsed:   56.3s\n",
      "[Parallel(n_jobs=4)]: Done 119 tasks      | elapsed:   56.7s\n",
      "[Parallel(n_jobs=4)]: Done 120 tasks      | elapsed:   57.0s\n",
      "[Parallel(n_jobs=4)]: Done 121 tasks      | elapsed:   57.2s\n",
      "[Parallel(n_jobs=4)]: Done 122 tasks      | elapsed:   57.5s\n",
      "[Parallel(n_jobs=4)]: Done 123 tasks      | elapsed:   58.0s\n",
      "[Parallel(n_jobs=4)]: Done 124 tasks      | elapsed:   58.2s\n",
      "[Parallel(n_jobs=4)]: Done 125 tasks      | elapsed:   58.7s\n",
      "[Parallel(n_jobs=4)]: Done 126 tasks      | elapsed:   59.5s\n",
      "[Parallel(n_jobs=4)]: Done 127 tasks      | elapsed:   59.8s\n",
      "[Parallel(n_jobs=4)]: Done 128 tasks      | elapsed:  1.0min\n",
      "[Parallel(n_jobs=4)]: Done 129 tasks      | elapsed:  1.0min\n",
      "[Parallel(n_jobs=4)]: Done 130 tasks      | elapsed:  1.0min\n",
      "[Parallel(n_jobs=4)]: Done 131 tasks      | elapsed:  1.0min\n",
      "[Parallel(n_jobs=4)]: Done 132 tasks      | elapsed:  1.0min\n",
      "[Parallel(n_jobs=4)]: Done 133 tasks      | elapsed:  1.0min\n",
      "[Parallel(n_jobs=4)]: Done 134 tasks      | elapsed:  1.0min\n",
      "[Parallel(n_jobs=4)]: Done 135 tasks      | elapsed:  1.1min\n",
      "[Parallel(n_jobs=4)]: Done 136 tasks      | elapsed:  1.1min\n"
     ]
    },
    {
     "name": "stderr",
     "output_type": "stream",
     "text": [
      "[Parallel(n_jobs=4)]: Done 137 tasks      | elapsed:  1.1min\n",
      "[Parallel(n_jobs=4)]: Done 138 tasks      | elapsed:  1.1min\n",
      "[Parallel(n_jobs=4)]: Done 139 tasks      | elapsed:  1.1min\n",
      "[Parallel(n_jobs=4)]: Done 140 tasks      | elapsed:  1.1min\n",
      "[Parallel(n_jobs=4)]: Done 141 tasks      | elapsed:  1.1min\n",
      "[Parallel(n_jobs=4)]: Done 142 tasks      | elapsed:  1.1min\n",
      "[Parallel(n_jobs=4)]: Done 143 tasks      | elapsed:  1.1min\n",
      "[Parallel(n_jobs=4)]: Done 144 tasks      | elapsed:  1.1min\n",
      "[Parallel(n_jobs=4)]: Done 145 tasks      | elapsed:  1.1min\n",
      "[Parallel(n_jobs=4)]: Done 146 tasks      | elapsed:  1.1min\n",
      "[Parallel(n_jobs=4)]: Done 147 tasks      | elapsed:  1.1min\n",
      "[Parallel(n_jobs=4)]: Done 148 tasks      | elapsed:  1.2min\n",
      "[Parallel(n_jobs=4)]: Done 149 tasks      | elapsed:  1.2min\n",
      "[Parallel(n_jobs=4)]: Done 150 tasks      | elapsed:  1.2min\n",
      "[Parallel(n_jobs=4)]: Done 151 tasks      | elapsed:  1.2min\n",
      "[Parallel(n_jobs=4)]: Done 152 tasks      | elapsed:  1.2min\n",
      "[Parallel(n_jobs=4)]: Done 153 tasks      | elapsed:  1.2min\n",
      "[Parallel(n_jobs=4)]: Done 154 tasks      | elapsed:  1.2min\n",
      "[Parallel(n_jobs=4)]: Done 155 tasks      | elapsed:  1.2min\n",
      "[Parallel(n_jobs=4)]: Done 156 tasks      | elapsed:  1.2min\n",
      "[Parallel(n_jobs=4)]: Done 157 tasks      | elapsed:  1.2min\n",
      "[Parallel(n_jobs=4)]: Done 158 tasks      | elapsed:  1.2min\n",
      "[Parallel(n_jobs=4)]: Done 159 tasks      | elapsed:  1.2min\n",
      "[Parallel(n_jobs=4)]: Done 160 tasks      | elapsed:  1.2min\n",
      "[Parallel(n_jobs=4)]: Done 161 tasks      | elapsed:  1.3min\n",
      "[Parallel(n_jobs=4)]: Done 162 tasks      | elapsed:  1.3min\n",
      "[Parallel(n_jobs=4)]: Done 163 tasks      | elapsed:  1.3min\n",
      "[Parallel(n_jobs=4)]: Done 164 tasks      | elapsed:  1.3min\n",
      "[Parallel(n_jobs=4)]: Done 165 tasks      | elapsed:  1.3min\n",
      "[Parallel(n_jobs=4)]: Done 166 tasks      | elapsed:  1.3min\n",
      "[Parallel(n_jobs=4)]: Done 167 tasks      | elapsed:  1.3min\n",
      "[Parallel(n_jobs=4)]: Done 168 tasks      | elapsed:  1.3min\n",
      "[Parallel(n_jobs=4)]: Done 169 tasks      | elapsed:  1.3min\n",
      "[Parallel(n_jobs=4)]: Done 170 tasks      | elapsed:  1.3min\n",
      "[Parallel(n_jobs=4)]: Done 171 tasks      | elapsed:  1.3min\n",
      "[Parallel(n_jobs=4)]: Done 172 tasks      | elapsed:  1.3min\n",
      "[Parallel(n_jobs=4)]: Done 173 tasks      | elapsed:  1.3min\n",
      "[Parallel(n_jobs=4)]: Done 174 tasks      | elapsed:  1.3min\n",
      "[Parallel(n_jobs=4)]: Done 175 tasks      | elapsed:  1.3min\n",
      "[Parallel(n_jobs=4)]: Done 176 tasks      | elapsed:  1.4min\n",
      "[Parallel(n_jobs=4)]: Done 177 tasks      | elapsed:  1.4min\n",
      "[Parallel(n_jobs=4)]: Done 178 tasks      | elapsed:  1.4min\n",
      "[Parallel(n_jobs=4)]: Done 179 tasks      | elapsed:  1.4min\n",
      "[Parallel(n_jobs=4)]: Done 180 tasks      | elapsed:  1.4min\n",
      "[Parallel(n_jobs=4)]: Done 181 tasks      | elapsed:  1.4min\n",
      "[Parallel(n_jobs=4)]: Done 182 tasks      | elapsed:  1.4min\n",
      "[Parallel(n_jobs=4)]: Done 183 tasks      | elapsed:  1.4min\n",
      "[Parallel(n_jobs=4)]: Done 184 tasks      | elapsed:  1.4min\n",
      "[Parallel(n_jobs=4)]: Done 185 tasks      | elapsed:  1.4min\n",
      "[Parallel(n_jobs=4)]: Done 186 tasks      | elapsed:  1.4min\n",
      "[Parallel(n_jobs=4)]: Done 187 tasks      | elapsed:  1.4min\n",
      "[Parallel(n_jobs=4)]: Done 188 tasks      | elapsed:  1.4min\n",
      "[Parallel(n_jobs=4)]: Done 189 tasks      | elapsed:  1.4min\n",
      "[Parallel(n_jobs=4)]: Done 190 tasks      | elapsed:  1.5min\n",
      "[Parallel(n_jobs=4)]: Done 191 tasks      | elapsed:  1.5min\n",
      "[Parallel(n_jobs=4)]: Done 192 tasks      | elapsed:  1.5min\n",
      "[Parallel(n_jobs=4)]: Done 193 tasks      | elapsed:  1.5min\n",
      "[Parallel(n_jobs=4)]: Done 194 tasks      | elapsed:  1.5min\n",
      "[Parallel(n_jobs=4)]: Done 195 tasks      | elapsed:  1.5min\n",
      "[Parallel(n_jobs=4)]: Done 196 tasks      | elapsed:  1.5min\n",
      "[Parallel(n_jobs=4)]: Done 197 tasks      | elapsed:  1.5min\n",
      "[Parallel(n_jobs=4)]: Done 198 tasks      | elapsed:  1.5min\n",
      "[Parallel(n_jobs=4)]: Done 199 tasks      | elapsed:  1.5min\n",
      "[Parallel(n_jobs=4)]: Done 200 tasks      | elapsed:  1.5min\n",
      "[Parallel(n_jobs=4)]: Done 201 tasks      | elapsed:  1.5min\n",
      "[Parallel(n_jobs=4)]: Done 202 tasks      | elapsed:  1.5min\n",
      "[Parallel(n_jobs=4)]: Done 203 tasks      | elapsed:  1.6min\n",
      "[Parallel(n_jobs=4)]: Done 204 tasks      | elapsed:  1.6min\n",
      "[Parallel(n_jobs=4)]: Done 205 tasks      | elapsed:  1.6min\n",
      "[Parallel(n_jobs=4)]: Done 206 tasks      | elapsed:  1.6min\n",
      "[Parallel(n_jobs=4)]: Done 207 tasks      | elapsed:  1.6min\n",
      "[Parallel(n_jobs=4)]: Done 208 tasks      | elapsed:  1.6min\n",
      "[Parallel(n_jobs=4)]: Done 209 tasks      | elapsed:  1.6min\n",
      "[Parallel(n_jobs=4)]: Done 210 tasks      | elapsed:  1.6min\n",
      "[Parallel(n_jobs=4)]: Done 211 tasks      | elapsed:  1.6min\n",
      "[Parallel(n_jobs=4)]: Done 212 tasks      | elapsed:  1.6min\n",
      "[Parallel(n_jobs=4)]: Done 213 tasks      | elapsed:  1.6min\n",
      "[Parallel(n_jobs=4)]: Done 214 tasks      | elapsed:  1.6min\n",
      "[Parallel(n_jobs=4)]: Done 215 tasks      | elapsed:  1.7min\n",
      "[Parallel(n_jobs=4)]: Done 216 tasks      | elapsed:  1.7min\n",
      "[Parallel(n_jobs=4)]: Done 217 tasks      | elapsed:  1.7min\n",
      "[Parallel(n_jobs=4)]: Done 218 tasks      | elapsed:  1.7min\n",
      "[Parallel(n_jobs=4)]: Done 225 out of 225 | elapsed:  1.8min finished\n",
      "C:\\Wesley_Tao\\6.Software\\Anaconda\\lib\\site-packages\\sklearn\\model_selection\\_search.py:761: DeprecationWarning: The grid_scores_ attribute was deprecated in version 0.18 in favor of the more elaborate cv_results_ attribute. The grid_scores_ attribute will not be available from 0.20\n",
      "  DeprecationWarning)\n"
     ]
    },
    {
     "data": {
      "text/plain": [
       "([mean: -0.02796, std: 0.00053, params: {'cat_smooth': 0, 'min_data_in_leaf': 1, 'num_leaves': 10},\n",
       "  mean: -0.02657, std: 0.00057, params: {'cat_smooth': 0, 'min_data_in_leaf': 1, 'num_leaves': 30},\n",
       "  mean: -0.02667, std: 0.00074, params: {'cat_smooth': 0, 'min_data_in_leaf': 1, 'num_leaves': 50},\n",
       "  mean: -0.02772, std: 0.00027, params: {'cat_smooth': 0, 'min_data_in_leaf': 21, 'num_leaves': 10},\n",
       "  mean: -0.02665, std: 0.00052, params: {'cat_smooth': 0, 'min_data_in_leaf': 21, 'num_leaves': 30},\n",
       "  mean: -0.02640, std: 0.00089, params: {'cat_smooth': 0, 'min_data_in_leaf': 21, 'num_leaves': 50},\n",
       "  mean: -0.02772, std: 0.00040, params: {'cat_smooth': 0, 'min_data_in_leaf': 41, 'num_leaves': 10},\n",
       "  mean: -0.02640, std: 0.00027, params: {'cat_smooth': 0, 'min_data_in_leaf': 41, 'num_leaves': 30},\n",
       "  mean: -0.02628, std: 0.00043, params: {'cat_smooth': 0, 'min_data_in_leaf': 41, 'num_leaves': 50},\n",
       "  mean: -0.02781, std: 0.00033, params: {'cat_smooth': 0, 'min_data_in_leaf': 61, 'num_leaves': 10},\n",
       "  mean: -0.02654, std: 0.00028, params: {'cat_smooth': 0, 'min_data_in_leaf': 61, 'num_leaves': 30},\n",
       "  mean: -0.02633, std: 0.00042, params: {'cat_smooth': 0, 'min_data_in_leaf': 61, 'num_leaves': 50},\n",
       "  mean: -0.02874, std: 0.00044, params: {'cat_smooth': 0, 'min_data_in_leaf': 81, 'num_leaves': 10},\n",
       "  mean: -0.02752, std: 0.00057, params: {'cat_smooth': 0, 'min_data_in_leaf': 81, 'num_leaves': 30},\n",
       "  mean: -0.02731, std: 0.00045, params: {'cat_smooth': 0, 'min_data_in_leaf': 81, 'num_leaves': 50},\n",
       "  mean: -0.02804, std: 0.00057, params: {'cat_smooth': 0.5, 'min_data_in_leaf': 1, 'num_leaves': 10},\n",
       "  mean: -0.02712, std: 0.00054, params: {'cat_smooth': 0.5, 'min_data_in_leaf': 1, 'num_leaves': 30},\n",
       "  mean: -0.02714, std: 0.00091, params: {'cat_smooth': 0.5, 'min_data_in_leaf': 1, 'num_leaves': 50},\n",
       "  mean: -0.02783, std: 0.00040, params: {'cat_smooth': 0.5, 'min_data_in_leaf': 21, 'num_leaves': 10},\n",
       "  mean: -0.02680, std: 0.00037, params: {'cat_smooth': 0.5, 'min_data_in_leaf': 21, 'num_leaves': 30},\n",
       "  mean: -0.02654, std: 0.00040, params: {'cat_smooth': 0.5, 'min_data_in_leaf': 21, 'num_leaves': 50},\n",
       "  mean: -0.02775, std: 0.00037, params: {'cat_smooth': 0.5, 'min_data_in_leaf': 41, 'num_leaves': 10},\n",
       "  mean: -0.02663, std: 0.00058, params: {'cat_smooth': 0.5, 'min_data_in_leaf': 41, 'num_leaves': 30},\n",
       "  mean: -0.02651, std: 0.00044, params: {'cat_smooth': 0.5, 'min_data_in_leaf': 41, 'num_leaves': 50},\n",
       "  mean: -0.02786, std: 0.00031, params: {'cat_smooth': 0.5, 'min_data_in_leaf': 61, 'num_leaves': 10},\n",
       "  mean: -0.02674, std: 0.00026, params: {'cat_smooth': 0.5, 'min_data_in_leaf': 61, 'num_leaves': 30},\n",
       "  mean: -0.02677, std: 0.00042, params: {'cat_smooth': 0.5, 'min_data_in_leaf': 61, 'num_leaves': 50},\n",
       "  mean: -0.02869, std: 0.00024, params: {'cat_smooth': 0.5, 'min_data_in_leaf': 81, 'num_leaves': 10},\n",
       "  mean: -0.02764, std: 0.00043, params: {'cat_smooth': 0.5, 'min_data_in_leaf': 81, 'num_leaves': 30},\n",
       "  mean: -0.02776, std: 0.00045, params: {'cat_smooth': 0.5, 'min_data_in_leaf': 81, 'num_leaves': 50},\n",
       "  mean: -0.02808, std: 0.00058, params: {'cat_smooth': 1, 'min_data_in_leaf': 1, 'num_leaves': 10},\n",
       "  mean: -0.02704, std: 0.00065, params: {'cat_smooth': 1, 'min_data_in_leaf': 1, 'num_leaves': 30},\n",
       "  mean: -0.02717, std: 0.00074, params: {'cat_smooth': 1, 'min_data_in_leaf': 1, 'num_leaves': 50},\n",
       "  mean: -0.02787, std: 0.00033, params: {'cat_smooth': 1, 'min_data_in_leaf': 21, 'num_leaves': 10},\n",
       "  mean: -0.02684, std: 0.00037, params: {'cat_smooth': 1, 'min_data_in_leaf': 21, 'num_leaves': 30},\n",
       "  mean: -0.02682, std: 0.00049, params: {'cat_smooth': 1, 'min_data_in_leaf': 21, 'num_leaves': 50},\n",
       "  mean: -0.02782, std: 0.00038, params: {'cat_smooth': 1, 'min_data_in_leaf': 41, 'num_leaves': 10},\n",
       "  mean: -0.02666, std: 0.00048, params: {'cat_smooth': 1, 'min_data_in_leaf': 41, 'num_leaves': 30},\n",
       "  mean: -0.02679, std: 0.00043, params: {'cat_smooth': 1, 'min_data_in_leaf': 41, 'num_leaves': 50},\n",
       "  mean: -0.02790, std: 0.00033, params: {'cat_smooth': 1, 'min_data_in_leaf': 61, 'num_leaves': 10},\n",
       "  mean: -0.02673, std: 0.00046, params: {'cat_smooth': 1, 'min_data_in_leaf': 61, 'num_leaves': 30},\n",
       "  mean: -0.02675, std: 0.00020, params: {'cat_smooth': 1, 'min_data_in_leaf': 61, 'num_leaves': 50},\n",
       "  mean: -0.02894, std: 0.00033, params: {'cat_smooth': 1, 'min_data_in_leaf': 81, 'num_leaves': 10},\n",
       "  mean: -0.02777, std: 0.00038, params: {'cat_smooth': 1, 'min_data_in_leaf': 81, 'num_leaves': 30},\n",
       "  mean: -0.02769, std: 0.00039, params: {'cat_smooth': 1, 'min_data_in_leaf': 81, 'num_leaves': 50}],\n",
       " {'cat_smooth': 0, 'min_data_in_leaf': 41, 'num_leaves': 50},\n",
       " -0.026281361987260575)"
      ]
     },
     "execution_count": 18,
     "metadata": {},
     "output_type": "execute_result"
    }
   ],
   "source": [
    "param_test1 = {\n",
    "     \"num_leaves\":[10,30,50],\n",
    "    \"cat_smooth\":[0,0.5,1],\n",
    "    'min_data_in_leaf':list(range(1,100,20)) \n",
    "}\n",
    "gsearch1 = GridSearchCV(estimator = lgb_model, \n",
    "param_grid = param_test1, scoring='neg_mean_squared_error',n_jobs=4,iid=False, cv=5,verbose=20)\n",
    "gsearch1.fit(X_train,y_train)\n",
    "gsearch1.grid_scores_, gsearch1.best_params_, gsearch1.best_score_"
   ]
  },
  {
   "cell_type": "code",
   "execution_count": 19,
   "metadata": {},
   "outputs": [
    {
     "data": {
      "text/plain": [
       "LGBMRegressor(bagging_fraction=0.8, bagging_freq=1, boosting_type='gbdt',\n",
       "       cat_smooth=0, class_weight=None, colsample_bytree=1.0,\n",
       "       learning_rate=0.1, max_bin=100, max_depth=-1, metric='rmse',\n",
       "       min_child_samples=20, min_child_weight=0.001, min_data_in_leaf=41,\n",
       "       min_split_gain=0.0, n_estimators=122, n_jobs=-1, num_leaves=50,\n",
       "       objective=None, random_state=None, reg_alpha=0.0, reg_lambda=0.0,\n",
       "       save_binary=True, silent=True, subsample=1.0,\n",
       "       subsample_for_bin=200000, subsample_freq=0)"
      ]
     },
     "execution_count": 19,
     "metadata": {},
     "output_type": "execute_result"
    }
   ],
   "source": [
    "lgb_model.set_params(**gsearch1.best_params_)"
   ]
  },
  {
   "cell_type": "code",
   "execution_count": 20,
   "metadata": {},
   "outputs": [
    {
     "data": {
      "text/plain": [
       "LGBMRegressor(bagging_fraction=0.8, bagging_freq=1, boosting_type='gbdt',\n",
       "       cat_smooth=0, class_weight=None, colsample_bytree=1.0,\n",
       "       learning_rate=0.1, max_bin=100, max_depth=-1, metric='rmse',\n",
       "       min_child_samples=20, min_child_weight=0.001, min_data_in_leaf=41,\n",
       "       min_split_gain=0.0, n_estimators=122, n_jobs=-1, num_leaves=50,\n",
       "       objective=None, random_state=None, reg_alpha=0.0, reg_lambda=0.0,\n",
       "       save_binary=True, silent=True, subsample=1.0,\n",
       "       subsample_for_bin=200000, subsample_freq=0)"
      ]
     },
     "execution_count": 20,
     "metadata": {},
     "output_type": "execute_result"
    }
   ],
   "source": [
    "lgb_model.fit(X_train,y_train)"
   ]
  },
  {
   "cell_type": "code",
   "execution_count": 21,
   "metadata": {},
   "outputs": [
    {
     "data": {
      "text/plain": [
       "0.026607985573588906"
      ]
     },
     "execution_count": 21,
     "metadata": {},
     "output_type": "execute_result"
    }
   ],
   "source": [
    "y_pred=lgb_model.predict(X_test)\n",
    "mean_squared_error(y_test,y_pred) # untuned random forest results"
   ]
  },
  {
   "cell_type": "code",
   "execution_count": 22,
   "metadata": {
    "collapsed": true
   },
   "outputs": [],
   "source": [
    "## feature importance "
   ]
  },
  {
   "cell_type": "code",
   "execution_count": 23,
   "metadata": {},
   "outputs": [
    {
     "data": {
      "image/png": "[encoded data removed]",
      "text/plain": [
       "<matplotlib.figure.Figure at 0x1c7288de828>"
      ]
     },
     "metadata": {},
     "output_type": "display_data"
    }
   ],
   "source": [
    "plot_feature(lgb_model,dtrain=X_train)"
   ]
  },
  {
   "cell_type": "code",
   "execution_count": 24,
   "metadata": {
    "collapsed": true
   },
   "outputs": [],
   "source": [
    "# important features\n",
    "# 1. Location (zip code latitude and longituted)\n",
    "# 2. square foot\n",
    "# 3. grade & condition \n",
    "# 4. Seasonality (seasonl sale)\n",
    "# 5. floor plan (eg 2b3b 2 floor)\n",
    "# 6. renovation\n",
    "# 7. view\n",
    "# 8. waterfront"
   ]
  }
 ],
 "metadata": {
  "kernelspec": {
   "display_name": "Python 3",
   "language": "python",
   "name": "python3"
  },
  "language_info": {
   "codemirror_mode": {
    "name": "ipython",
    "version": 3
   },
   "file_extension": ".py",
   "mimetype": "text/x-python",
   "name": "python",
   "nbconvert_exporter": "python",
   "pygments_lexer": "ipython3",
   "version": "3.6.1"
  }
 },
 "nbformat": 4,
 "nbformat_minor": 2
}
